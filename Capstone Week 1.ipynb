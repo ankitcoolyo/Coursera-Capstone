{
    "cells": [
        {
            "cell_type": "markdown",
            "metadata": {
                "collapsed": true
            },
            "source": "## Business Problem"
        },
        {
            "cell_type": "markdown",
            "metadata": {},
            "source": "### So This project aims to reduce the collisions in a community and for that an algorithm has to developed .This is done to predict the severity of accidents depending upon the factors such as current weather,road and visibility conditions which are already given to us.An intimation will be given to driver when these conditions are bad by the model.\n"
        },
        {
            "cell_type": "code",
            "execution_count": null,
            "metadata": {},
            "outputs": [],
            "source": ""
        }
    ],
    "metadata": {
        "kernelspec": {
            "display_name": "Python 3.6",
            "language": "python",
            "name": "python3"
        },
        "language_info": {
            "codemirror_mode": {
                "name": "ipython",
                "version": 3
            },
            "file_extension": ".py",
            "mimetype": "text/x-python",
            "name": "python",
            "nbconvert_exporter": "python",
            "pygments_lexer": "ipython3",
            "version": "3.6.9"
        }
    },
    "nbformat": 4,
    "nbformat_minor": 1
}