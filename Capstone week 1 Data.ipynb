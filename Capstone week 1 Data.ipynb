{
    "cells": [
        {
            "cell_type": "markdown",
            "metadata": {
                "collapsed": true
            },
            "source": "# Data"
        },
        {
            "cell_type": "markdown",
            "metadata": {},
            "source": "### So in this case we are using 'SEVERITYCODE' as  predictor or target variable since we can measure or depict  the severity of an accident from 0 to 5 within the dataset. Here attributes used to weigh the severity of an accident are 'WEATHER', 'ROADCOND' and 'LIGHTCOND'.\n\n### The codes for severity are as follows:\n\n0 : Little to no Probability (Clear Conditions)\n\n1 : Very Low Probablility - Chance or Property Damage\n\n2 : Low Probability - Chance of Injury\n\n3 : Mild Probability - Chance of Serious Injury\n\n4 : High Probability - Chance of Fatality"
        },
        {
            "cell_type": "code",
            "execution_count": null,
            "metadata": {},
            "outputs": [],
            "source": ""
        }
    ],
    "metadata": {
        "kernelspec": {
            "display_name": "Python 3.6",
            "language": "python",
            "name": "python3"
        },
        "language_info": {
            "codemirror_mode": {
                "name": "ipython",
                "version": 3
            },
            "file_extension": ".py",
            "mimetype": "text/x-python",
            "name": "python",
            "nbconvert_exporter": "python",
            "pygments_lexer": "ipython3",
            "version": "3.6.9"
        }
    },
    "nbformat": 4,
    "nbformat_minor": 1
}