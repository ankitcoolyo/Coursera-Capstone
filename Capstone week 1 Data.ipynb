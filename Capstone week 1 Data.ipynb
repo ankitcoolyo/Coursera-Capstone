{
    "cells": [
        {
            "cell_type": "markdown",
            "metadata": {
                "collapsed": true
            },
            "source": "# Data"
        },
        {
            "cell_type": "markdown",
            "metadata": {},
            "source": "### So in this case we are using 'SEVERITYCODE' as  predictor or target variable since we can measure or depict  the severity of an accident from 0 to 5 within the dataset. Here attributes used to weigh the severity of an accident are 'WEATHER', 'ROADCOND' and 'LIGHTCOND'.\n\n### The codes for severity are as follows:\n\n0 : Little to no Probability (Clear Conditions)\n\n1 : Very Low Probablility - Chance or Property Damage\n\n2 : Low Probability - Chance of Injury\n\n3 : Mild Probability - Chance of Serious Injury\n\n4 : High Probability - Chance of Fatality\n"
        },
        {
            "cell_type": "markdown",
            "metadata": {},
            "source": "## Example of Dataset"
        },
        {
            "cell_type": "code",
            "execution_count": 2,
            "metadata": {},
            "outputs": [],
            "source": "import pandas as pd\nimport numpy as np"
        },
        {
            "cell_type": "code",
            "execution_count": null,
            "metadata": {},
            "outputs": [],
            "source": "df=pd.read_csv (r'C:\\Users\\Ankit\\Downloads\\Data-Collisions.csv')\nprint(df)"
        },
        {
            "cell_type": "markdown",
            "metadata": {},
            "source": "## Result of above command\n        SEVERITYCODE           X          Y  OBJECTID  INCKEY  COLDETKEY  \\\n0                  2 -122.323148  47.703140         1    1307       1307   \n1                  1 -122.347294  47.647172         2   52200      52200   \n2                  1 -122.334540  47.607871         3   26700      26700   \n3                  1 -122.334803  47.604803         4    1144       1144   \n4                  2 -122.306426  47.545739         5   17700      17700   \n...              ...         ...        ...       ...     ...        ...   \n194668             2 -122.290826  47.565408    219543  309534     310814   \n194669             1 -122.344526  47.690924    219544  309085     310365   \n194670             2 -122.306689  47.683047    219545  311280     312640   \n194671             2 -122.355317  47.678734    219546  309514     310794   \n194672             1 -122.289360  47.611017    219547  308220     309500   \n\n       REPORTNO   STATUS      ADDRTYPE   INTKEY  ... ROADCOND  \\\n0       3502005  Matched  Intersection  37475.0  ...      Wet   \n1       2607959  Matched         Block      NaN  ...      Wet   \n2       1482393  Matched         Block      NaN  ...      Dry   \n3       3503937  Matched         Block      NaN  ...      Dry   \n4       1807429  Matched  Intersection  34387.0  ...      Wet   \n...         ...      ...           ...      ...  ...      ...   \n194668  E871089  Matched         Block      NaN  ...      Dry   \n194669  E876731  Matched         Block      NaN  ...      Wet   \n194670  3809984  Matched  Intersection  24760.0  ...      Dry   \n194671  3810083  Matched  Intersection  24349.0  ...      Dry   \n194672  E868008  Matched         Block      NaN  ...      Wet   \n\n                      LIGHTCOND PEDROWNOTGRNT  SDOTCOLNUM SPEEDING ST_COLCODE  \\\n0                      Daylight           NaN         NaN      NaN         10   \n1       Dark - Street Lights On           NaN   6354039.0      NaN         11   \n2                      Daylight           NaN   4323031.0      NaN         32   \n3                      Daylight           NaN         NaN      NaN         23   \n4                      Daylight           NaN   4028032.0      NaN         10   \n...                         ...           ...         ...      ...        ...   \n194668                 Daylight           NaN         NaN      NaN         24   \n194669                 Daylight           NaN         NaN      NaN         13   \n194670                 Daylight           NaN         NaN      NaN         28   \n194671                     Dusk           NaN         NaN      NaN          5   \n194672                 Daylight           NaN         NaN      NaN         14   \n\n                                               ST_COLDESC  SEGLANEKEY  \\\n0                                       Entering at angle           0   \n1       From same direction - both going straight - bo...           0   \n2                                  One parked--one moving           0   \n3                        From same direction - all others           0   \n4                                       Entering at angle           0   \n...                                                   ...         ...   \n194668    From opposite direction - both moving - head-on           0   \n194669  From same direction - both going straight - bo...           0   \n194670  From opposite direction - one left turn - one ...           0   \n194671                       Vehicle Strikes Pedalcyclist        4308   \n194672  From same direction - both going straight - on...           0   \n\n        CROSSWALKKEY  HITPARKEDCAR  \n0                  0             N  \n1                  0             N  \n2                  0             N  \n3                  0             N  \n4                  0             N  \n...              ...           ...  \n194668             0             N  \n194669             0             N  \n194670             0             N  \n194671             0             N  \n194672             0             N  \n\n[194673 rows x 38 columns]"
        },
        {
            "cell_type": "code",
            "execution_count": null,
            "metadata": {},
            "outputs": [],
            "source": "df.dtypes"
        },
        {
            "cell_type": "markdown",
            "metadata": {},
            "source": "## Result of above command\nSEVERITYCODE        int64\nX                 float64\nY                 float64\nOBJECTID            int64\nINCKEY              int64\nCOLDETKEY           int64\nREPORTNO           object\nSTATUS             object\nADDRTYPE           object\nINTKEY            float64\nLOCATION           object\nEXCEPTRSNCODE      object\nEXCEPTRSNDESC      object\nSEVERITYCODE.1      int64\nSEVERITYDESC       object\nCOLLISIONTYPE      object\nPERSONCOUNT         int64\nPEDCOUNT            int64\nPEDCYLCOUNT         int64\nVEHCOUNT            int64\nINCDATE            object\nINCDTTM            object\nJUNCTIONTYPE       object\nSDOT_COLCODE        int64\nSDOT_COLDESC       object\nINATTENTIONIND     object\nUNDERINFL          object\nWEATHER            object\nROADCOND           object\nLIGHTCOND          object\nPEDROWNOTGRNT      object\nSDOTCOLNUM        float64\nSPEEDING           object\nST_COLCODE         object\nST_COLDESC         object\nSEGLANEKEY          int64\nCROSSWALKKEY        int64\nHITPARKEDCAR       object\ndtype: object"
        },
        {
            "cell_type": "code",
            "execution_count": null,
            "metadata": {},
            "outputs": [],
            "source": "z= df [['SEVERITYCODE','ROADCOND','LIGHTCOND','COLLISIONTYPE','WEATHER']]\nprint(z)"
        },
        {
            "cell_type": "markdown",
            "metadata": {},
            "source": "## Result of above command\n        SEVERITYCODE ROADCOND                LIGHTCOND COLLISIONTYPE   WEATHER\n0                  2      Wet                 Daylight        Angles  Overcast\n1                  1      Wet  Dark - Street Lights On     Sideswipe   Raining\n2                  1      Dry                 Daylight    Parked Car  Overcast\n3                  1      Dry                 Daylight         Other     Clear\n4                  2      Wet                 Daylight        Angles   Raining\n...              ...      ...                      ...           ...       ...\n194668             2      Dry                 Daylight       Head On     Clear\n194669             1      Wet                 Daylight    Rear Ended   Raining\n194670             2      Dry                 Daylight     Left Turn     Clear\n194671             2      Dry                     Dusk        Cycles     Clear\n194672             1      Wet                 Daylight    Rear Ended     Clear\n\n[194673 rows x 5 columns]\n### So we can see that there is some sort of relation in between the attributes that are discussed above as of now.So we can treat it as an exampe. We can see when lightcond is dadylight ,road"
        }
    ],
    "metadata": {
        "kernelspec": {
            "display_name": "Python 3.6",
            "language": "python",
            "name": "python3"
        },
        "language_info": {
            "codemirror_mode": {
                "name": "ipython",
                "version": 3
            },
            "file_extension": ".py",
            "mimetype": "text/x-python",
            "name": "python",
            "nbconvert_exporter": "python",
            "pygments_lexer": "ipython3",
            "version": "3.6.9"
        }
    },
    "nbformat": 4,
    "nbformat_minor": 1
}